{
 "cells": [
  {
   "cell_type": "markdown",
   "metadata": {},
   "source": [
    "# Asynchonous Operation\n",
    "DNAC is a collection of stateless microservices.   All of the PUT/POST/DELETE operations are non-blocking (asynchronous).\n",
    "\n",
    "\n",
    "When an API resquest, the user gets a task that they need to poll until it completes.  The task will contain status information about the result.\n",
    "\n",
    "\n",
    "### Login\n",
    "This is a simplified login approach, where a module is used."
   ]
  },
  {
   "cell_type": "code",
   "execution_count": 1,
   "metadata": {},
   "outputs": [
    {
     "name": "stdout",
     "output_type": "stream",
     "text": [
      "https://sandboxdnac.cisco.com/api/system/v1/auth/token\n"
     ]
    }
   ],
   "source": [
    "from login import login\n",
    "import json\n",
    "dnac = login()"
   ]
  },
  {
   "cell_type": "markdown",
   "metadata": {},
   "source": [
    "## Pathtrace\n",
    "The pathtrace service traces the path between two hosts across the network.  The first call to start a pathtrace will return a task.\n"
   ]
  },
  {
   "cell_type": "code",
   "execution_count": 2,
   "metadata": {},
   "outputs": [
    {
     "name": "stdout",
     "output_type": "stream",
     "text": [
      "https://sandboxdnac.cisco.com/api/v1/flow-analysis\n"
     ]
    }
   ],
   "source": [
    "flowTask = dnac.flowanalysis.initiateFlowAnalysis(flowAnalysisRequest={\"sourceIP\": '10.10.22.114',\n",
    "                                                                           \"destIP\" : '10.10.22.98',\n",
    "                                                                           \"periodicRefresh\" : False})"
   ]
  },
  {
   "cell_type": "markdown",
   "metadata": {},
   "source": [
    "The response contains a 'taskId' to monitor the status of the request"
   ]
  },
  {
   "cell_type": "code",
   "execution_count": 3,
   "metadata": {},
   "outputs": [
    {
     "name": "stdout",
     "output_type": "stream",
     "text": [
      "{\n",
      "    \"version\": \"1.0\",\n",
      "    \"response\": {\n",
      "        \"taskId\": \"e9e9335d-8ff6-4c26-82fa-13ba1d8e812e\",\n",
      "        \"url\": \"/api/v1/flow-analysis/7a672a66-5baa-4f39-ba54-1066f49b876f\",\n",
      "        \"flowAnalysisId\": \"7a672a66-5baa-4f39-ba54-1066f49b876f\"\n",
      "    }\n",
      "}\n"
     ]
    }
   ],
   "source": [
    "print (json.dumps(dnac.serialize(flowTask), indent=4))"
   ]
  },
  {
   "cell_type": "markdown",
   "metadata": {},
   "source": [
    "### Tasks\n",
    "The 'wait_for_task_complete' method takes a task and an optional timout and polling_frequency.  It monitors the status of the task, and returns when the task is complete (or the timeout is reached)."
   ]
  },
  {
   "cell_type": "code",
   "execution_count": 5,
   "metadata": {},
   "outputs": [
    {
     "name": "stdout",
     "output_type": "stream",
     "text": [
      "https://sandboxdnac.cisco.com/api/v1/task/e9e9335d-8ff6-4c26-82fa-13ba1d8e812e\n",
      "{\n",
      "    \"rootId\": \"e9e9335d-8ff6-4c26-82fa-13ba1d8e812e\",\n",
      "    \"progress\": \"7a672a66-5baa-4f39-ba54-1066f49b876f\",\n",
      "    \"version\": 1516598584241,\n",
      "    \"id\": \"e9e9335d-8ff6-4c26-82fa-13ba1d8e812e\",\n",
      "    \"isError\": false,\n",
      "    \"serviceType\": \"Policy Analysis Service\",\n",
      "    \"endTime\": 1516598584252,\n",
      "    \"startTime\": 1516598583874,\n",
      "    \"lastUpdate\": 1516598584241\n",
      "}\n"
     ]
    }
   ],
   "source": [
    "# extrace the taskId\n",
    "taskId = flowTask.response.taskId\n",
    "\n",
    "# wait_for_task_complete is a utility function that polls APIC-EM until the task is completed.  \n",
    "# You can provide an optional timeout and polling interval\n",
    "taskStatus = dnac.task_util.wait_for_task_complete(flowTask, timeout=15, poll_frequency=5)\n",
    "\n",
    "print(json.dumps(dnac.serialize(taskStatus), indent=4))"
   ]
  },
  {
   "cell_type": "markdown",
   "metadata": {},
   "source": [
    "### 'progress' attribute\n",
    "The 'progress' attribute from the completed task is often used to provide information about the request.  In the case of a POST, it is usually an 'id' of the nely created resource."
   ]
  },
  {
   "cell_type": "code",
   "execution_count": 6,
   "metadata": {},
   "outputs": [
    {
     "name": "stdout",
     "output_type": "stream",
     "text": [
      "https://sandboxdnac.cisco.com/api/v1/flow-analysis/7a672a66-5baa-4f39-ba54-1066f49b876f\n",
      "{\n",
      "    \"networkElementsInfo\": [\n",
      "        {\n",
      "            \"type\": \"wired\",\n",
      "            \"linkInformationSource\": \"Wired\",\n",
      "            \"id\": \"ac385e41-165b-4de7-a49b-42ba15cacd4f\",\n",
      "            \"ip\": \"10.10.22.114\"\n",
      "        },\n",
      "        {\n",
      "            \"ingressInterface\": {\n",
      "                \"physicalInterface\": {\n",
      "                    \"name\": \"TenGigabitEthernet1/0/24\",\n",
      "                    \"id\": \"c39338e4-93fc-4fcb-8de5-bbbd2860d950\"\n",
      "                },\n",
      "                \"virtualInterface\": [\n",
      "                    {\n",
      "                        \"name\": \"Vlan1\",\n",
      "                        \"id\": \"631365df-5b91-437f-9b54-1299b8316cb4\"\n",
      "                    }\n",
      "                ]\n",
      "            },\n",
      "            \"egressInterface\": {\n",
      "                \"physicalInterface\": {\n",
      "                    \"name\": \"TenGigabitEthernet1/1/1\",\n",
      "                    \"id\": \"a385c26c-8d6c-4efa-9cac-1a2febddc789\"\n",
      "                }\n",
      "            },\n",
      "            \"id\": \"74b69532-5dc3-45a1-a0dd-6d1d10051f27\",\n",
      "            \"ip\": \"10.10.22.70\",\n",
      "            \"role\": \"ACCESS\",\n",
      "            \"type\": \"Switches and Hubs\",\n",
      "            \"name\": \"cat_9k_2.abc.inc\",\n",
      "            \"linkInformationSource\": \"OSPF\"\n",
      "        },\n",
      "        {\n",
      "            \"ingressInterface\": {\n",
      "                \"physicalInterface\": {\n",
      "                    \"name\": \"TenGigabitEthernet1/1/3\",\n",
      "                    \"id\": \"cee8e925-d142-4d05-bfa8-4c7fdb9a28ed\"\n",
      "                }\n",
      "            },\n",
      "            \"egressInterface\": {\n",
      "                \"physicalInterface\": {\n",
      "                    \"name\": \"TenGigabitEthernet1/1/2\",\n",
      "                    \"id\": \"0f5598f1-7b25-4ffa-8e48-f9de1c8ced98\"\n",
      "                }\n",
      "            },\n",
      "            \"id\": \"8be78ab1-d684-49c1-8529-2b08e9c5a6d4\",\n",
      "            \"ip\": \"10.10.22.69\",\n",
      "            \"role\": \"CORE\",\n",
      "            \"type\": \"Switches and Hubs\",\n",
      "            \"name\": \"cs3850.abc.inc\",\n",
      "            \"linkInformationSource\": \"OSPF\"\n",
      "        },\n",
      "        {\n",
      "            \"ingressInterface\": {\n",
      "                \"physicalInterface\": {\n",
      "                    \"name\": \"TenGigabitEthernet1/1/1\",\n",
      "                    \"id\": \"d4131d7c-1253-41cb-88d6-1852eea23f31\"\n",
      "                }\n",
      "            },\n",
      "            \"egressInterface\": {\n",
      "                \"physicalInterface\": {\n",
      "                    \"name\": \"TenGigabitEthernet1/0/1\",\n",
      "                    \"id\": \"01ced8e8-3679-4d9d-bbcd-995e2f14c4db\"\n",
      "                },\n",
      "                \"virtualInterface\": [\n",
      "                    {\n",
      "                        \"name\": \"Vlan1\",\n",
      "                        \"id\": \"ca00d4a8-099f-4594-8203-32a49f351010\"\n",
      "                    }\n",
      "                ]\n",
      "            },\n",
      "            \"id\": \"6d3eaa5d-bb39-4cc4-8881-4a2b2668d2dc\",\n",
      "            \"ip\": \"10.10.22.66\",\n",
      "            \"role\": \"ACCESS\",\n",
      "            \"type\": \"Switches and Hubs\",\n",
      "            \"name\": \"cat_9k_1.abc.inc\",\n",
      "            \"linkInformationSource\": \"Switched\"\n",
      "        },\n",
      "        {\n",
      "            \"type\": \"wired\",\n",
      "            \"id\": \"f2c0c00b-68d5-44cc-bb4d-d4cb62ca2403\",\n",
      "            \"ip\": \"10.10.22.98\"\n",
      "        }\n",
      "    ],\n",
      "    \"request\": {\n",
      "        \"createTime\": 1516598583875,\n",
      "        \"id\": \"7a672a66-5baa-4f39-ba54-1066f49b876f\",\n",
      "        \"lastUpdateTime\": 1516598584245,\n",
      "        \"sourceIP\": \"10.10.22.114\",\n",
      "        \"destIP\": \"10.10.22.98\",\n",
      "        \"status\": \"COMPLETED\",\n",
      "        \"periodicRefresh\": false\n",
      "    },\n",
      "    \"lastUpdate\": \"Mon Jan 22 05:23:49 UTC 2018\"\n",
      "}\n"
     ]
    }
   ],
   "source": [
    "# this is the id of the pathtrace result that we need to GET.\n",
    "flowId = taskStatus.progress\n",
    "\n",
    "# this will get the pathTrace\n",
    "pathTrace = dnac.flowanalysis.getFullFlowAnalysisResult(flowAnalysisId=flowId)\n",
    "\n",
    "print (json.dumps(dnac.serialize(pathTrace.response),indent=4))"
   ]
  },
  {
   "cell_type": "markdown",
   "metadata": {},
   "source": [
    "This result can be pretty printed"
   ]
  },
  {
   "cell_type": "code",
   "execution_count": 7,
   "metadata": {},
   "outputs": [
    {
     "name": "stdout",
     "output_type": "stream",
     "text": [
      "None: 10.10.22.114\n",
      "\n",
      "cat_9k_2.abc.inc: 10.10.22.70\n",
      "\n",
      "cs3850.abc.inc: 10.10.22.69\n",
      "\n",
      "cat_9k_1.abc.inc: 10.10.22.66\n",
      "\n",
      "None: 10.10.22.98\n",
      "\n"
     ]
    }
   ],
   "source": [
    "for device in pathTrace.response.networkElementsInfo:\n",
    "    print(\"{name}: {ip}\\n\".format(name=device.name, ip=device.ip))"
   ]
  },
  {
   "cell_type": "markdown",
   "metadata": {
    "collapsed": true
   },
   "source": [
    "<hr>\n",
    "<font color=blue>\n",
    "<h2> Challenge</h2>\n",
    "Change the call to request device statistics and display those.\n",
    "<p>\n",
    "<i><b> Hint: \"inclusions\" : [\"DEVICE-STATS\"] needs to be added to the payload body</b></i>\n",
    "<p>\n",
    "<b> Bonus, also display the version of code for the device\n",
    "</font>\n",
    "<hr>"
   ]
  },
  {
   "cell_type": "code",
   "execution_count": null,
   "metadata": {
    "collapsed": true
   },
   "outputs": [],
   "source": [
    ""
   ]
  }
 ],
 "metadata": {
  "kernelspec": {
   "display_name": "Python 3",
   "language": "python",
   "name": "python3"
  },
  "language_info": {
   "codemirror_mode": {
    "name": "ipython",
    "version": 3.0
   },
   "file_extension": ".py",
   "mimetype": "text/x-python",
   "name": "python",
   "nbconvert_exporter": "python",
   "pygments_lexer": "ipython3",
   "version": "3.4.4"
  }
 },
 "nbformat": 4,
 "nbformat_minor": 0
}