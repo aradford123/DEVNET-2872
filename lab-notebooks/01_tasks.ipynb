{
 "cells": [
  {
   "cell_type": "markdown",
   "metadata": {},
   "source": [
    "# Asynchonous Operation\n",
    "DNAC is a collection of stateless microservices.   All of the PUT/POST/DELETE operations are non-blocking (asynchronous).\n",
    "\n",
    "\n",
    "When an API resquest, the user gets a task that they need to poll until it completes.  The task will contain status information about the result.\n",
    "\n",
    "\n",
    "### Login\n",
    "This is a simplified login approach, where a module is used."
   ]
  },
  {
   "cell_type": "code",
   "execution_count": null,
   "metadata": {},
   "outputs": [],
   "source": [
    "from login import login\n",
    "import json\n",
    "dnac = login()"
   ]
  },
  {
   "cell_type": "markdown",
   "metadata": {},
   "source": [
    "## Pathtrace\n",
    "The pathtrace service traces the path between two hosts across the network.  The first call to start a pathtrace will return a task.\n"
   ]
  },
  {
   "cell_type": "code",
   "execution_count": null,
   "metadata": {},
   "outputs": [],
   "source": [
    "flowTask = dnac.flowanalysis.initiateFlowAnalysis(flowAnalysisRequest={\"sourceIP\": '10.10.22.114',\n",
    "                                                                           \"destIP\" : '10.10.22.98',\n",
    "                                                                           \"periodicRefresh\" : False})"
   ]
  },
  {
   "cell_type": "markdown",
   "metadata": {},
   "source": [
    "The response contains a 'taskId' to monitor the status of the request"
   ]
  },
  {
   "cell_type": "code",
   "execution_count": null,
   "metadata": {},
   "outputs": [],
   "source": [
    "print (json.dumps(dnac.serialize(flowTask), indent=4))"
   ]
  },
  {
   "cell_type": "markdown",
   "metadata": {},
   "source": [
    "### Tasks\n",
    "The 'wait_for_task_complete' method takes a task and an optional timout and polling_frequency.  It monitors the status of the task, and returns when the task is complete (or the timeout is reached)."
   ]
  },
  {
   "cell_type": "code",
   "execution_count": null,
   "metadata": {},
   "outputs": [],
   "source": [
    "# extrace the taskId\n",
    "taskId = flowTask.response.taskId\n",
    "\n",
    "# wait_for_task_complete is a utility function that polls APIC-EM until the task is completed.  \n",
    "# You can provide an optional timeout and polling interval\n",
    "taskStatus = dnac.task_util.wait_for_task_complete(flowTask, timeout=15, poll_frequency=5)\n",
    "\n",
    "print(json.dumps(dnac.serialize(taskStatus), indent=4))"
   ]
  },
  {
   "cell_type": "markdown",
   "metadata": {},
   "source": [
    "### 'progress' attribute\n",
    "The 'progress' attribute from the completed task is often used to provide information about the request.  In the case of a POST, it is usually an 'id' of the nely created resource."
   ]
  },
  {
   "cell_type": "code",
   "execution_count": null,
   "metadata": {},
   "outputs": [],
   "source": [
    "# this is the id of the pathtrace result that we need to GET.\n",
    "flowId = taskStatus.progress\n",
    "\n",
    "# this will get the pathTrace\n",
    "pathTrace = dnac.flowanalysis.getFullFlowAnalysisResult(flowAnalysisId=flowId)\n",
    "\n",
    "print (json.dumps(dnac.serialize(pathTrace.response),indent=4))"
   ]
  },
  {
   "cell_type": "markdown",
   "metadata": {},
   "source": [
    "This result can be pretty printed"
   ]
  },
  {
   "cell_type": "code",
   "execution_count": null,
   "metadata": {},
   "outputs": [],
   "source": [
    "for device in pathTrace.response.networkElementsInfo:\n",
    "    print(\"{name}: {ip}\\n\".format(name=device.name, ip=device.ip))"
   ]
  },
  {
   "cell_type": "markdown",
   "metadata": {
    "collapsed": true
   },
   "source": [
    "<hr>\n",
    "<font color=blue>\n",
    "<h2> Challenge</h2>\n",
    "Change the call to request device statistics and display those.\n",
    "<p>\n",
    "<i><b> Hint: \"inclusions\" : [\"DEVICE-STATS\"] needs to be added to the payload body</b></i>\n",
    "<p>\n",
    "<b> Bonus, also display the version of code for the device\n",
    "</font>\n",
    "<hr>"
   ]
  },
  {
   "cell_type": "code",
   "execution_count": null,
   "metadata": {},
   "outputs": [],
   "source": []
  }
 ],
 "metadata": {
  "kernelspec": {
   "display_name": "Python 3",
   "language": "python",
   "name": "python3"
  },
  "language_info": {
   "codemirror_mode": {
    "name": "ipython",
    "version": 3.0
   },
   "file_extension": ".py",
   "mimetype": "text/x-python",
   "name": "python",
   "nbconvert_exporter": "python",
   "pygments_lexer": "ipython3",
   "version": "3.4.4"
  }
 },
 "nbformat": 4,
 "nbformat_minor": 0
}
