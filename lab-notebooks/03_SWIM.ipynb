{
 "cells": [
  {
   "cell_type": "markdown",
   "metadata": {},
   "source": [
    "## SoftWare Image Management (SWIM) API for DNA Center\n",
    "This workbook goes through some of the DNA Center SWIM API\n",
    "\n"
   ]
  },
  {
   "cell_type": "markdown",
   "metadata": {},
   "source": [
    "### Login\n",
    "First code just establishes a connection to a sandbox DNA center.\n"
   ]
  },
  {
   "cell_type": "code",
   "execution_count": null,
   "metadata": {},
   "outputs": [],
   "source": [
    "from login import login\n",
    "import json\n",
    "\n",
    "dnac= login()"
   ]
  },
  {
   "cell_type": "markdown",
   "metadata": {},
   "source": [
    "Next step is to search for a software image by name.  In this case we are looking for images that have \"cat9k\" in their name"
   ]
  },
  {
   "cell_type": "code",
   "execution_count": null,
   "metadata": {},
   "outputs": [],
   "source": [
    "image = dnac.call_api(\"GET\", \"/image/importation?name=cat9k\")"
   ]
  },
  {
   "cell_type": "markdown",
   "metadata": {},
   "source": [
    "We then print the response.  16.06.02s is a match."
   ]
  },
  {
   "cell_type": "code",
   "execution_count": null,
   "metadata": {},
   "outputs": [],
   "source": [
    "print(json.dumps(image, indent=4))"
   ]
  },
  {
   "cell_type": "markdown",
   "metadata": {},
   "source": [
    "In order to use this image we need to capture the imamge UUID."
   ]
  },
  {
   "cell_type": "code",
   "execution_count": null,
   "metadata": {},
   "outputs": [],
   "source": [
    "imageId=image['response'][0]['imageUuid']"
   ]
  },
  {
   "cell_type": "markdown",
   "metadata": {},
   "source": [
    "The next step is to get the UUID of a network device we want to distribute the image too.  In the case we are doing a lookup by IP address."
   ]
  },
  {
   "cell_type": "code",
   "execution_count": null,
   "metadata": {},
   "outputs": [],
   "source": [
    "networkDevice=dnac.call_api('GET','/network-device/ip-address/10.10.22.70')"
   ]
  },
  {
   "cell_type": "markdown",
   "metadata": {},
   "source": [
    "We then extract the UUID attribtute."
   ]
  },
  {
   "cell_type": "code",
   "execution_count": null,
   "metadata": {},
   "outputs": [],
   "source": [
    "networkDeviceId=networkDevice['response']['id']\n",
    "print(networkDeviceId)"
   ]
  },
  {
   "cell_type": "markdown",
   "metadata": {},
   "source": [
    "### Distribute\n",
    "The payload for the distribute API is list of deviceUuid and ImageUuid.  It is possible to provide more than one."
   ]
  },
  {
   "cell_type": "code",
   "execution_count": null,
   "metadata": {},
   "outputs": [],
   "source": [
    "body=[\n",
    "\t{\n",
    "\t\t\"deviceUuid\": networkDeviceId,\n",
    "\t\t\"imageUuid\": imageId\n",
    "\t}\n",
    "]\n",
    "\n",
    "print(body)\n",
    "# Need to use proxy\n",
    "\n",
    "response = dnac.call_api(\"POST\", \"/image/distribution\", body)"
   ]
  },
  {
   "cell_type": "code",
   "execution_count": null,
   "metadata": {},
   "outputs": [],
   "source": [
    "print(response)"
   ]
  },
  {
   "cell_type": "markdown",
   "metadata": {},
   "source": [
    "This is an asynchronous operation, so we need to poll the task.  It might take a few minutes for this process to complete.  "
   ]
  },
  {
   "cell_type": "code",
   "execution_count": null,
   "metadata": {},
   "outputs": [],
   "source": [
    "dnac.call_api(\"GET\", \"/task/{0}\".format(response['response']['taskId']))"
   ]
  },
  {
   "cell_type": "markdown",
   "metadata": {},
   "source": [
    "### Delete a file\n",
    "Now to delete a file from the flash of a device."
   ]
  },
  {
   "cell_type": "code",
   "execution_count": null,
   "metadata": {},
   "outputs": [],
   "source": [
    "task= dnac.call_api(\"DELETE\",\"/device-image/device/{0}/file/cat9k_iosxe.16.06.02s.SPA.bin\".format(networkDeviceId))"
   ]
  },
  {
   "cell_type": "code",
   "execution_count": null,
   "metadata": {},
   "outputs": [],
   "source": [
    "Again, need to check the task to find out what happened."
   ]
  },
  {
   "cell_type": "code",
   "execution_count": null,
   "metadata": {},
   "outputs": [],
   "source": [
    "dnac.call_api(\"GET\", \"/task/{0}\".format(task['response']['taskId']))"
   ]
  },
  {
   "cell_type": "markdown",
   "metadata": {},
   "source": [
    "You would need to active the image (before deleting it, for the upgrade to succeed."
   ]
  }
 ],
 "metadata": {
  "kernelspec": {
   "display_name": "Python 3",
   "language": "python",
   "name": "python3"
  },
  "language_info": {
   "codemirror_mode": {
    "name": "ipython",
    "version": 3.0
   },
   "file_extension": ".py",
   "mimetype": "text/x-python",
   "name": "python",
   "nbconvert_exporter": "python",
   "pygments_lexer": "ipython3",
   "version": "3.4.4"
  }
 },
 "nbformat": 4,
 "nbformat_minor": 0
}
