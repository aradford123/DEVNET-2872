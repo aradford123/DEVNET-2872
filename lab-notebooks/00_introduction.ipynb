{
 "cells": [
  {
   "cell_type": "markdown",
   "metadata": {
    "slideshow": {
     "slide_type": "-"
    }
   },
   "source": [
    "# Introduction to UNIQ for DNAC\n",
    "## Overview"
   ]
  },
  {
   "cell_type": "markdown",
   "metadata": {
    "slideshow": {
     "slide_type": "-"
    }
   },
   "source": [
    "This notebook shows how to use the uniq python library with DNAC.\n",
    "\n"
   ]
  },
  {
   "cell_type": "markdown",
   "metadata": {
    "slideshow": {
     "slide_type": "-"
    }
   },
   "source": [
    "## Getting Started\n",
    "The first requirement is to import a NbClientManager to connect to DNAC"
   ]
  },
  {
   "cell_type": "code",
   "execution_count": null,
   "metadata": {
    "slideshow": {
     "slide_type": "-"
    }
   },
   "outputs": [],
   "source": [
    "import json\n",
    "import requests.exceptions\n",
    "\n",
    "# this is the client manager used to connect to DNAC\n",
    "from uniq.apis.nb.client_manager import NbClientManager\n",
    "\n",
    "# this will be the ip/dns name of DNAC, the user/password credentials\n",
    "# stored in current directory\n",
    "from dnac_config import DNAC, DNAC_USER, DNAC_PASSWORD"
   ]
  },
  {
   "cell_type": "markdown",
   "metadata": {
    "slideshow": {
     "slide_type": "-"
    }
   },
   "source": [
    "Next we create a connection, and check for obvious errors.\n"
   ]
  },
  {
   "cell_type": "code",
   "execution_count": null,
   "metadata": {
    "slideshow": {
     "slide_type": "-"
    }
   },
   "outputs": [],
   "source": [
    "# create the connection to DNAC\n",
    "try:\n",
    "    dnac = NbClientManager(\n",
    "                server=DNAC,\n",
    "                username=DNAC_USER,\n",
    "                password=DNAC_PASSWORD,\n",
    "                connect=True)\n",
    "\n",
    "except requests.exceptions.HTTPError as exc_info:\n",
    "    if exc_info.response.status_code == 401:\n",
    "        print('Authentication Failed. Please provide valid username/password.')\n",
    "    else:\n",
    "        print('HTTP Status Code {code}. Reason: {reason}'.format(\n",
    "                    code=exc_info.response.status_code,\n",
    "                    reason=exc_info.response.reason))\n",
    "    exit(1)\n",
    "except requests.exceptions.ConnectionError:\n",
    "    print('Connection aborted. Please check if the host {host} is available.'.format(host=DNAC))\n",
    "    exit(1)"
   ]
  },
  {
   "cell_type": "markdown",
   "metadata": {},
   "source": [
    "If you print the connection, you will see the server/username/password and version of the API"
   ]
  },
  {
   "cell_type": "code",
   "execution_count": null,
   "metadata": {},
   "outputs": [],
   "source": [
    "print(dnac)"
   ]
  },
  {
   "cell_type": "markdown",
   "metadata": {},
   "source": [
    "## First API Request\n",
    "This example gets all of the network devices from the controller inventory.  \n",
    "\n",
    "### Accessing network-devices on DNAC"
   ]
  },
  {
   "cell_type": "code",
   "execution_count": null,
   "metadata": {},
   "outputs": [],
   "source": [
    "# this method will get all network devices\n",
    "network_devices  = dnac.networkdevice.getAllNetworkDevice()"
   ]
  },
  {
   "cell_type": "code",
   "execution_count": null,
   "metadata": {},
   "outputs": [],
   "source": [
    "# now pretty print it\n",
    "# serialize turns object into a json dict.\n",
    "# we do not normally do this, but shows the structure maps to a dictionary\n",
    "print(json.dumps(dnac.serialize(network_devices), indent=2))"
   ]
  },
  {
   "cell_type": "markdown",
   "metadata": {},
   "source": [
    "### Displaying data\n",
    "\n",
    "Now print out a subset of the attributes.  Define a format string that can be used for both the heading and the data.\n",
    "\n",
    "- UseCase: Print out a comma sepparated list of attributes for importing into an asset management system "
   ]
  },
  {
   "cell_type": "code",
   "execution_count": null,
   "metadata": {},
   "outputs": [],
   "source": [
    "# define a formating string\n",
    "formatstring='{ip:<16s}, {name:<30s}, {software:<16s}, {serial:<20s}'\n",
    "\n",
    "\n",
    "# print a heading\n",
    "print(formatstring.format(ip=\"IP Address\", \n",
    "                          name=\"Device Name\", \n",
    "                          software=\"Software Version\",\n",
    "                         serial=\"Serial Number\"))\n",
    "\n",
    "# print each of the nework devices.  network_devices is a list of objects with attributes, not a python dict\n",
    "for network_device in network_devices.response:\n",
    "    print(formatstring.format(ip=network_device.managementIpAddress, \n",
    "                                 name=network_device.hostname,\n",
    "                                 software=network_device.softwareVersion,\n",
    "                             serial=network_device.serialNumber))"
   ]
  },
  {
   "cell_type": "markdown",
   "metadata": {},
   "source": [
    "<font color=blue>\n",
    "<hr>\n",
    "<h2> Challenge </h2>\n",
    "Either insert a cell or modify the cell above to change the attributes that are printed out.\n",
    "<hr>\n",
    "</font>"
   ]
  },
  {
   "cell_type": "markdown",
   "metadata": {
    "collapsed": true
   },
   "source": [
    "## Getting a Specific resource\n",
    "\n",
    "Now find a specific device and make a request for a single device\n"
   ]
  },
  {
   "cell_type": "code",
   "execution_count": null,
   "metadata": {},
   "outputs": [],
   "source": [
    "[(net_dev.id, net_dev.upTime) for net_dev in network_devices.response ]"
   ]
  },
  {
   "cell_type": "code",
   "execution_count": null,
   "metadata": {},
   "outputs": [],
   "source": [
    "# look for a specific access device which is a 9300\n",
    "try:\n",
    "    # one line list comprehension\n",
    "    deviceId = [net_dev.id for net_dev in network_devices.response \n",
    "                 if net_dev.role ==\"ACCESS\" and  \"9300\" in net_dev.type ][0]\n",
    "    print (\"Success, found id:{id}\".format(id=deviceId))\n",
    "except keyError:\n",
    "    print (\"FAIL: no suitable device found\")"
   ]
  },
  {
   "cell_type": "markdown",
   "metadata": {},
   "source": [
    "This id can be used to return all the information about a single device.  Device id are important as the uniquely identify the device.  They are used in many API calls to perform an action on a device.  For example to assign a tag or a location for a device, you would need to know the ```id```."
   ]
  },
  {
   "cell_type": "code",
   "execution_count": null,
   "metadata": {},
   "outputs": [],
   "source": [
    "network_device = dnac.networkdevice.getNetworkDeviceById(id=deviceId)\n",
    "print (json.dumps(dnac.serialize(network_device), indent=2))"
   ]
  },
  {
   "cell_type": "markdown",
   "metadata": {},
   "source": [
    "### Get Network-device by management IP address\n",
    "Looking a device up by id is challenging as you may not always know the id.  It is often the case you know the management IP address (or serialnumber) and want to get the id of the device, or some other attributes (e.g. version of code).\n",
    "\n",
    "- UseCase: a function to allow the user to enter the IP address of a network-device and perform some other action based on the id."
   ]
  },
  {
   "cell_type": "code",
   "execution_count": null,
   "metadata": {},
   "outputs": [],
   "source": [
    "# looks up a network device by ipaddress, and returns the id attribute\n",
    "def ipToDeviceId(ipAddress):\n",
    "    ip_network_device = dnac.networkdevice.getNetworkDeviceByIp(ipAddress=ipAddress)\n",
    "    return ip_network_device.response.id\n",
    "\n",
    "# we are cheating here as we are just picking the IP address from earlier\n",
    "# this is just to illustrate the use of a known ip address\n",
    "ipAddress=network_device.response.managementIpAddress\n",
    "id1 = ipToDeviceId(ipAddress)\n",
    "print (\"Example1: %s\" % id1)\n",
    "\n",
    "# now use a specific IP address.  You can change this to one of the examples above\n",
    "ipAddress=\"10.10.22.70\"\n",
    "id2 = ipToDeviceId(ipAddress)\n",
    "print (\"Example1: %s\" % id2)"
   ]
  },
  {
   "cell_type": "markdown",
   "metadata": {},
   "source": [
    "<hr>\n",
    "<font color=blue>\n",
    "<h2> Challenge </h2>\n",
    "Write some code to get all network-devices running IOS \"15.2(4)M6a\"\n",
    "</font>\n",
    "<hr>"
   ]
  },
  {
   "cell_type": "markdown",
   "metadata": {
    "raw_mimetype": "text/markdown"
   },
   "source": [
    "## Host data store\n",
    "This call show the hosts connected to the network.\n",
    "\n",
    "- UseCase: find my host\n"
   ]
  },
  {
   "cell_type": "code",
   "execution_count": null,
   "metadata": {},
   "outputs": [],
   "source": [
    "hosts = dnac.host.getHosts()\n",
    "print(json.dumps(dnac.serialize(hosts), indent=4))"
   ]
  },
  {
   "cell_type": "markdown",
   "metadata": {},
   "source": [
    "Lookup a device by ipaddress (macAddress, hostname).  \n",
    "Can also use connectedInterfaceName and connectedNetworkDeviceIpAddress"
   ]
  },
  {
   "cell_type": "code",
   "execution_count": null,
   "metadata": {},
   "outputs": [],
   "source": [
    "# lookup host by IP address\n",
    "host=dnac.host.getHosts(hostIp=\"10.10.22.114\").response[0]\n",
    "\n",
    "print(\"host: {ip} {mac}: DEVICE{deviceIp} {interface}\".format(\n",
    "                        ip=host.hostIp,\n",
    "                        mac=host.hostMac,\n",
    "                        deviceIp=host.connectedNetworkDeviceIpAddress,\n",
    "                        interface=host.connectedInterfaceName   ))"
   ]
  },
  {
   "cell_type": "markdown",
   "metadata": {},
   "source": [
    "<hr>\n",
    "<font color=blue>\n",
    "<h2> Challenge </h2>\n",
    "Write some code to get the IOS version of the device a host is connected to.\n",
    "</font>\n",
    "<hr>"
   ]
  },
  {
   "cell_type": "markdown",
   "metadata": {},
   "source": [
    "### interfaces\n",
    "\n",
    "Look at the interfaces that the device above is connected to.  Get switch port utilization\n"
   ]
  },
  {
   "cell_type": "code",
   "execution_count": null,
   "metadata": {},
   "outputs": [],
   "source": [
    "host=dnac.host.getHosts(hostIp=\"10.10.22.114\").response[0]\n",
    "deviceId =host.connectedNetworkDeviceId\n",
    "interfaces = dnac.interface.getInterfaceByDeviceId(deviceId=deviceId).response"
   ]
  },
  {
   "cell_type": "code",
   "execution_count": null,
   "metadata": {},
   "outputs": [],
   "source": [
    "print (json.dumps(dnac.serialize(interfaces), indent=4))"
   ]
  },
  {
   "cell_type": "code",
   "execution_count": null,
   "metadata": {},
   "outputs": [],
   "source": [
    "# get a list of portName,  speed and status\n",
    "[(port.portName, port.speed, port.status)\n",
    "                 for port in interfaces\n",
    "                 if port.interfaceType == 'Physical']"
   ]
  },
  {
   "cell_type": "code",
   "execution_count": null,
   "metadata": {},
   "outputs": [],
   "source": [
    "import re\n",
    "def atoi(text):\n",
    "    return int(text) if text.isdigit() else text\n",
    "\n",
    "# natural sort for interfaces\n",
    "def natural_sort(interfacelist):\n",
    "    return sorted(interfacelist, key=lambda port: [ atoi(c) for c in re.split('(\\d+)', port.portName)])\n",
    "\n",
    "[(port.portName, port.speed, port.status)\n",
    "        for port in natural_sort(interfaces)\n",
    "            if port.interfaceType == 'Physical']"
   ]
  },
  {
   "cell_type": "code",
   "execution_count": null,
   "metadata": {},
   "outputs": [],
   "source": [
    "len([port.portName for port in natural_sort(interfaces)\n",
    "                 if port.interfaceType == 'Physical'\n",
    "                    and port.status == 'up'])"
   ]
  },
  {
   "cell_type": "markdown",
   "metadata": {
    "collapsed": true
   },
   "source": [
    "<hr>\n",
    "<font color=blue>\n",
    "<h2> Challenge </h2>\n",
    "Calculate the percentage utilization (active ports) for the switch above.\n",
    "</font>\n",
    "<hr>"
   ]
  },
  {
   "cell_type": "code",
   "execution_count": null,
   "metadata": {},
   "outputs": [],
   "source": []
  }
 ],
 "metadata": {
  "celltoolbar": "Raw Cell Format",
  "kernelspec": {
   "display_name": "Python 3",
   "language": "python",
   "name": "python3"
  },
  "language_info": {
   "codemirror_mode": {
    "name": "ipython",
    "version": 3.0
   },
   "file_extension": ".py",
   "mimetype": "text/x-python",
   "name": "python",
   "nbconvert_exporter": "python",
   "pygments_lexer": "ipython3",
   "version": "3.4.4"
  }
 },
 "nbformat": 4,
 "nbformat_minor": 0
}
