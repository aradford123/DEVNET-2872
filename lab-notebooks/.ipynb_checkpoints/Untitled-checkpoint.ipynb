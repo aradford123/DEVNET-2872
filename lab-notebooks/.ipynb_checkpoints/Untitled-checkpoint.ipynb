{
 "cells": [
  {
   "cell_type": "code",
   "execution_count": 1,
   "metadata": {},
   "outputs": [
    {
     "name": "stdout",
     "output_type": "stream",
     "text": [
      "https://sandboxdnac.cisco.com:8080/api/system/v1/auth/token\n"
     ]
    }
   ],
   "source": [
    "from login import login\n",
    "import json\n",
    "\n",
    "dnac= login()"
   ]
  },
  {
   "cell_type": "code",
   "execution_count": 2,
   "metadata": {},
   "outputs": [
    {
     "name": "stdout",
     "output_type": "stream",
     "text": [
      "https://sandboxdnac.cisco.com:8080/api/v1/image/importation?name=cat9k\n"
     ]
    }
   ],
   "source": [
    "image = dnac.call_api(\"GET\", \"/image/importation?name=cat9k\")"
   ]
  },
  {
   "cell_type": "code",
   "execution_count": 3,
   "metadata": {},
   "outputs": [
    {
     "name": "stdout",
     "output_type": "stream",
     "text": [
      "{\n",
      "    \"response\": [\n",
      "        {\n",
      "            \"vendor\": \"CISCO\",\n",
      "            \"fileServiceId\": \"96bb1a1b-45b6-4a35-8687-8d572d3d87b7\",\n",
      "            \"isTaggedGolden\": false,\n",
      "            \"createdTime\": \"2018-01-13 09:14:18.0\",\n",
      "            \"imageName\": \"cat9k_iosxe.16.06.02s.SPA.bin\",\n",
      "            \"imageSource\": \"file:/opt/maglev/services/swim-service/7.1.0.64153//localdisk/Staging/cat9k_iosxe.16.06.02s.SPA.bin\",\n",
      "            \"feature\": \"\",\n",
      "            \"extendedAttributes\": {\n",
      "                \"BOOTROM\": \"UNKNOWN\",\n",
      "                \"RAM\": \"UNKNOWN\",\n",
      "                \"DEFAULT_RAM\": \"UNKNOWN\",\n",
      "                \"COMPRESSION_CODE\": \"-1\",\n",
      "                \"MINFLASHSIZE\": \"UNKNOWN\",\n",
      "                \"MEDIA\": \"5\",\n",
      "                \"DEFAULT_MINFLASHSIZE\": \"UNKNOWN\",\n",
      "                \"DEFAULT_BOOTROM\": \"UNKNOWN\",\n",
      "                \"GAIA_FEATURE\": \"UNKNOWN\"\n",
      "            },\n",
      "            \"imageType\": \"SYSTEM_SW\",\n",
      "            \"fileSize\": \"596391064 bytes\",\n",
      "            \"imageUuid\": \"dbd0f3d3-c24e-4e70-9391-0ab38b3cfc32\",\n",
      "            \"version\": \"16.6.2s\",\n",
      "            \"shaCheckSum\": \"0d8053841bf0aa36a3484824e049f24e86c743ecd2d2d276cdea437d94a2c7a0d58807fc697b8329a19e951aee004fdb4e824201b15cc6be632b73a8815788bd\",\n",
      "            \"importSourceType\": \"FILESYSTEM\",\n",
      "            \"family\": \"CAT9K\",\n",
      "            \"md5Checksum\": \"99774fdff358019347a32835e0803f3c\",\n",
      "            \"name\": \"cat9k_iosxe.16.06.02s.SPA.bin\",\n",
      "            \"applicationType\": \"\"\n",
      "        }\n",
      "    ],\n",
      "    \"version\": \"1.0\"\n",
      "}\n"
     ]
    }
   ],
   "source": [
    "print(json.dumps(image, indent=4))"
   ]
  },
  {
   "cell_type": "code",
   "execution_count": 4,
   "metadata": {},
   "outputs": [],
   "source": [
    "imageId=image['response'][0]['imageUuid']"
   ]
  },
  {
   "cell_type": "code",
   "execution_count": 5,
   "metadata": {},
   "outputs": [
    {
     "name": "stdout",
     "output_type": "stream",
     "text": [
      "https://sandboxdnac.cisco.com:8080/api/v1/network-device/ip-address/10.10.22.70\n"
     ]
    }
   ],
   "source": [
    "networkDevice=dnac.call_api('GET','/network-device/ip-address/10.10.22.70')"
   ]
  },
  {
   "cell_type": "code",
   "execution_count": 6,
   "metadata": {},
   "outputs": [
    {
     "name": "stdout",
     "output_type": "stream",
     "text": [
      "74b69532-5dc3-45a1-a0dd-6d1d10051f27\n"
     ]
    }
   ],
   "source": [
    "networkDeviceId=networkDevice['response']['id']\n",
    "print(networkDeviceId)"
   ]
  },
  {
   "cell_type": "code",
   "execution_count": 12,
   "metadata": {},
   "outputs": [
    {
     "name": "stdout",
     "output_type": "stream",
     "text": [
      "[{'imageUuid': 'dbd0f3d3-c24e-4e70-9391-0ab38b3cfc32', 'deviceUuid': '74b69532-5dc3-45a1-a0dd-6d1d10051f27'}]\n",
      "https://sandboxdnac.cisco.com:8080/api/v1/image/distribution\n"
     ]
    }
   ],
   "source": [
    "body=[\n",
    "\t{\n",
    "\t\t\"deviceUuid\": networkDeviceId,\n",
    "\t\t\"imageUuid\": imageId\n",
    "\t}\n",
    "]\n",
    "\n",
    "print(body)\n",
    "# Need to use proxy\n",
    "\n",
    "response = dnac.call_api(\"POST\", \"/image/distribution\", body)"
   ]
  },
  {
   "cell_type": "code",
   "execution_count": 13,
   "metadata": {},
   "outputs": [
    {
     "name": "stdout",
     "output_type": "stream",
     "text": [
      "{'response': {'taskId': '2363e44d-9689-45b1-9c4a-01b8fb86d6da', 'url': '/api/v1/task/2363e44d-9689-45b1-9c4a-01b8fb86d6da'}, 'version': '1.0'}\n"
     ]
    }
   ],
   "source": [
    "print(response\n",
    "     )"
   ]
  },
  {
   "cell_type": "code",
   "execution_count": 18,
   "metadata": {},
   "outputs": [
    {
     "name": "stdout",
     "output_type": "stream",
     "text": [
      "https://sandboxdnac.cisco.com:8080/api/v1/task/2363e44d-9689-45b1-9c4a-01b8fb86d6da\n"
     ]
    },
    {
     "data": {
      "text/plain": [
       "{'response': {'data': 'distribute',\n",
       "  'endTime': 1516700644186,\n",
       "  'errorCode': '2012',\n",
       "  'failureReason': 'DistributeDTOList list is empty.',\n",
       "  'id': '2363e44d-9689-45b1-9c4a-01b8fb86d6da',\n",
       "  'isError': True,\n",
       "  'progress': 'Workflow Distribute Image failed. Success = 0, Failure = 1, Running = 0, Pending = 0, Total = 1',\n",
       "  'rootId': '2363e44d-9689-45b1-9c4a-01b8fb86d6da',\n",
       "  'serviceType': 'Swim Service',\n",
       "  'startTime': 1516700643991,\n",
       "  'version': 1516700643991},\n",
       " 'version': '1.0'}"
      ]
     },
     "execution_count": 18,
     "metadata": {},
     "output_type": "execute_result"
    }
   ],
   "source": [
    "dnac.call_api(\"GET\", \"/task/{0}\".format(response['response']['taskId']))"
   ]
  },
  {
   "cell_type": "code",
   "execution_count": 19,
   "metadata": {},
   "outputs": [
    {
     "name": "stdout",
     "output_type": "stream",
     "text": [
      "https://sandboxdnac.cisco.com:8080/api/v1/device-image/device/74b69532-5dc3-45a1-a0dd-6d1d10051f27/file/cat9k_iosxe.16.06.02s.SPA.bin\n"
     ]
    }
   ],
   "source": [
    "task= dnac.call_api(\"DELETE\",\"/device-image/device/{0}/file/cat9k_iosxe.16.06.02s.SPA.bin\".format(networkDeviceId))"
   ]
  },
  {
   "cell_type": "code",
   "execution_count": 22,
   "metadata": {},
   "outputs": [
    {
     "name": "stdout",
     "output_type": "stream",
     "text": [
      "https://sandboxdnac.cisco.com:8080/api/v1/task/1497631f-3477-4b62-94dd-dbc8c840f8e2\n"
     ]
    },
    {
     "data": {
      "text/plain": [
       "{'response': {'data': 'delete-image-device',\n",
       "  'endTime': 1516700864708,\n",
       "  'errorCode': '100',\n",
       "  'failureReason': 'failed',\n",
       "  'id': '1497631f-3477-4b62-94dd-dbc8c840f8e2',\n",
       "  'isError': True,\n",
       "  'progress': ' Success = 0, Failure = 1, Running = 0, Pending = 0, Total = 1',\n",
       "  'rootId': '1497631f-3477-4b62-94dd-dbc8c840f8e2',\n",
       "  'serviceType': 'Swim Service',\n",
       "  'startTime': 1516700864275,\n",
       "  'version': 1516700864275},\n",
       " 'version': '1.0'}"
      ]
     },
     "execution_count": 22,
     "metadata": {},
     "output_type": "execute_result"
    }
   ],
   "source": [
    "dnac.call_api(\"GET\", \"/task/{0}\".format(task['response']['taskId']))"
   ]
  },
  {
   "cell_type": "code",
   "execution_count": null,
   "metadata": {},
   "outputs": [],
   "source": []
  }
 ],
 "metadata": {
  "kernelspec": {
   "display_name": "Python 3",
   "language": "python",
   "name": "python3"
  },
  "language_info": {
   "codemirror_mode": {
    "name": "ipython",
    "version": 3
   },
   "file_extension": ".py",
   "mimetype": "text/x-python",
   "name": "python",
   "nbconvert_exporter": "python",
   "pygments_lexer": "ipython3",
   "version": "3.4.4"
  }
 },
 "nbformat": 4,
 "nbformat_minor": 1
}
