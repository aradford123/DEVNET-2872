{
 "cells": [
  {
   "cell_type": "markdown",
   "metadata": {
    "slideshow": {
     "slide_type": "-"
    }
   },
   "source": [
    "# Introduction to UNIQ for DNAC\n",
    "## Overview"
   ]
  },
  {
   "cell_type": "markdown",
   "metadata": {
    "slideshow": {
     "slide_type": "-"
    }
   },
   "source": [
    "This notebook shows how to use the uniq python library with DNAC.\n",
    "\n"
   ]
  },
  {
   "cell_type": "markdown",
   "metadata": {
    "slideshow": {
     "slide_type": "-"
    }
   },
   "source": [
    "## Getting Started\n",
    "The first requirement is to import a NbClientManager to connect to DNAC"
   ]
  },
  {
   "cell_type": "code",
   "execution_count": 1,
   "metadata": {
    "slideshow": {
     "slide_type": "-"
    }
   },
   "outputs": [],
   "source": [
    "import json\n",
    "import requests.exceptions\n",
    "\n",
    "# this is the client manager used to connect to DNAC\n",
    "from uniq.apis.nb.client_manager import NbClientManager\n",
    "\n",
    "# this will be the ip/dns name of DNAC, the user/password credentials\n",
    "# stored in current directory\n",
    "from dnac_config import DNAC, DNAC_USER, DNAC_PASSWORD"
   ]
  },
  {
   "cell_type": "markdown",
   "metadata": {
    "slideshow": {
     "slide_type": "-"
    }
   },
   "source": [
    "Next we create a connection, and check for obvious errors.\n"
   ]
  },
  {
   "cell_type": "code",
   "execution_count": 2,
   "metadata": {
    "slideshow": {
     "slide_type": "-"
    }
   },
   "outputs": [
    {
     "name": "stdout",
     "output_type": "stream",
     "text": [
      "https://sandboxdnac.cisco.com/api/system/v1/auth/token\n"
     ]
    }
   ],
   "source": [
    "# create the connection to DNAC\n",
    "try:\n",
    "    dnac = NbClientManager(\n",
    "                server=DNAC,\n",
    "                username=DNAC_USER,\n",
    "                password=DNAC_PASSWORD,\n",
    "                connect=True)\n",
    "\n",
    "except requests.exceptions.HTTPError as exc_info:\n",
    "    if exc_info.response.status_code == 401:\n",
    "        print('Authentication Failed. Please provide valid username/password.')\n",
    "    else:\n",
    "        print('HTTP Status Code {code}. Reason: {reason}'.format(\n",
    "                    code=exc_info.response.status_code,\n",
    "                    reason=exc_info.response.reason))\n",
    "    exit(1)\n",
    "except requests.exceptions.ConnectionError:\n",
    "    print('Connection aborted. Please check if the host {host} is available.'.format(host=DNAC))\n",
    "    exit(1)"
   ]
  },
  {
   "cell_type": "markdown",
   "metadata": {},
   "source": [
    "If you print the connection, you will see the server/username/password and version of the API"
   ]
  },
  {
   "cell_type": "code",
   "execution_count": 3,
   "metadata": {},
   "outputs": [
    {
     "name": "stdout",
     "output_type": "stream",
     "text": [
      "[DNAC: <server:sandboxdnac.cisco.com> <username:devnetuser> <password:Cisco123!> <version:v1>]\n"
     ]
    }
   ],
   "source": [
    "print(dnac)"
   ]
  },
  {
   "cell_type": "markdown",
   "metadata": {},
   "source": [
    "## First API Request\n",
    "This example gets all of the network devices from the controller inventory.  \n",
    "\n",
    "### Accessing network-devices on DNAC"
   ]
  },
  {
   "cell_type": "code",
   "execution_count": 4,
   "metadata": {},
   "outputs": [
    {
     "name": "stdout",
     "output_type": "stream",
     "text": [
      "https://sandboxdnac.cisco.com/api/v1/network-device\n"
     ]
    }
   ],
   "source": [
    "# this method will get all network devices\n",
    "network_devices  = dnac.networkdevice.getAllNetworkDevice()"
   ]
  },
  {
   "cell_type": "code",
   "execution_count": 5,
   "metadata": {},
   "outputs": [
    {
     "name": "stdout",
     "output_type": "stream",
     "text": [
      "{\n",
      "  \"response\": [\n",
      "    {\n",
      "      \"family\": \"Routers\",\n",
      "      \"managementIpAddress\": \"10.10.22.74\",\n",
      "      \"memorySize\": \"3956371104\",\n",
      "      \"softwareVersion\": \"16.6.1\",\n",
      "      \"lastUpdateTime\": 1520474146564,\n",
      "      \"hostname\": \"asr1001-x.abc.inc\",\n",
      "      \"reachabilityFailureReason\": \"\",\n",
      "      \"macAddress\": \"00:c8:8b:80:bb:00\",\n",
      "      \"role\": \"BORDER ROUTER\",\n",
      "      \"bootDateTime\": \"2018-01-11 15:47:04\",\n",
      "      \"collectionInterval\": \"Global Default\",\n",
      "      \"snmpLocation\": \"\",\n",
      "      \"collectionStatus\": \"Managed\",\n",
      "      \"instanceUuid\": \"d5bbb4a9-a14d-4347-9546-89286e9f30d4\",\n",
      "      \"serialNumber\": \"FXS1932Q1SE\",\n",
      "      \"reachabilityStatus\": \"Reachable\",\n",
      "      \"inventoryStatusDetail\": \"<status><general code=\\\"SUCCESS\\\"/></status>\",\n",
      "      \"roleSource\": \"AUTO\",\n",
      "      \"series\": \"Cisco ASR 1000 Series Aggregation Services Routers\",\n",
      "      \"tagCount\": \"0\",\n",
      "      \"type\": \"Cisco ASR 1001-X Router\",\n",
      "      \"upTime\": \"55 days, 10:08:24.37\",\n",
      "      \"lineCardCount\": \"9\",\n",
      "      \"apManagerInterfaceIp\": \"\",\n",
      "      \"lastUpdated\": \"2018-03-08 01:55:46\",\n",
      "      \"lineCardId\": \"a2406c7a-d92a-4fe6-b3d5-ec6475be8477, 5b75b5fd-21e3-4deb-a8f6-6094ff73e2c8, 8768c6f1-e19b-4c62-a4be-51c001b05b0f, afdfa337-bd9c-4eb0-ae41-b7a97f5f473d, c59fbb81-d3b4-4b5a-81f9-fe2c8d80aead, b21b6024-5dc0-4f22-bc23-90fc618552e2, 1be624f0-1647-4309-8662-a0f87260992a, 56f4fbb8-ff2d-416b-a7b4-4079acc6fa8e, 164716c3-62d1-4e48-a1b8-42541ae6199b\",\n",
      "      \"interfaceCount\": \"10\",\n",
      "      \"id\": \"d5bbb4a9-a14d-4347-9546-89286e9f30d4\",\n",
      "      \"snmpContact\": \"\",\n",
      "      \"platformId\": \"ASR1001-X\"\n",
      "    },\n",
      "    {\n",
      "      \"family\": \"Switches and Hubs\",\n",
      "      \"managementIpAddress\": \"10.10.22.66\",\n",
      "      \"memorySize\": \"889225280\",\n",
      "      \"softwareVersion\": \"16.6.1\",\n",
      "      \"lastUpdateTime\": 1520475389216,\n",
      "      \"hostname\": \"cat_9k_1.abc.inc\",\n",
      "      \"reachabilityFailureReason\": \"\",\n",
      "      \"macAddress\": \"f8:7b:20:67:62:80\",\n",
      "      \"role\": \"ACCESS\",\n",
      "      \"bootDateTime\": \"2018-01-11 14:42:33\",\n",
      "      \"collectionInterval\": \"Global Default\",\n",
      "      \"snmpLocation\": \"\",\n",
      "      \"collectionStatus\": \"Managed\",\n",
      "      \"instanceUuid\": \"6d3eaa5d-bb39-4cc4-8881-4a2b2668d2dc\",\n",
      "      \"serialNumber\": \"FCW2136L0AK\",\n",
      "      \"reachabilityStatus\": \"Reachable\",\n",
      "      \"inventoryStatusDetail\": \"<status><general code=\\\"SUCCESS\\\"/></status>\",\n",
      "      \"roleSource\": \"AUTO\",\n",
      "      \"series\": \"Cisco Catalyst 9300 Series Switches\",\n",
      "      \"tagCount\": \"0\",\n",
      "      \"type\": \"Cisco Catalyst 9300 Switch\",\n",
      "      \"upTime\": \"55 days, 11:34:08.75\",\n",
      "      \"lineCardCount\": \"2\",\n",
      "      \"apManagerInterfaceIp\": \"\",\n",
      "      \"lastUpdated\": \"2018-03-08 02:16:29\",\n",
      "      \"lineCardId\": \"feb42c9f-323f-4e17-87d3-c2ea924320cb, 0f0c473e-b2e0-4dcf-af11-9e7cf7216473\",\n",
      "      \"interfaceCount\": \"41\",\n",
      "      \"id\": \"6d3eaa5d-bb39-4cc4-8881-4a2b2668d2dc\",\n",
      "      \"snmpContact\": \"\",\n",
      "      \"platformId\": \"C9300-24UX\"\n",
      "    },\n",
      "    {\n",
      "      \"family\": \"Switches and Hubs\",\n",
      "      \"managementIpAddress\": \"10.10.22.70\",\n",
      "      \"memorySize\": \"889225360\",\n",
      "      \"softwareVersion\": \"16.6.1\",\n",
      "      \"lastUpdateTime\": 1520474336679,\n",
      "      \"hostname\": \"cat_9k_2.abc.inc\",\n",
      "      \"reachabilityFailureReason\": \"\",\n",
      "      \"macAddress\": \"f8:7b:20:71:4d:80\",\n",
      "      \"role\": \"ACCESS\",\n",
      "      \"bootDateTime\": \"2018-01-11 14:43:33\",\n",
      "      \"collectionInterval\": \"Global Default\",\n",
      "      \"snmpLocation\": \"\",\n",
      "      \"collectionStatus\": \"Managed\",\n",
      "      \"instanceUuid\": \"74b69532-5dc3-45a1-a0dd-6d1d10051f27\",\n",
      "      \"serialNumber\": \"FCW2140L039\",\n",
      "      \"reachabilityStatus\": \"Reachable\",\n",
      "      \"inventoryStatusDetail\": \"<status><general code=\\\"SUCCESS\\\"/></status>\",\n",
      "      \"roleSource\": \"AUTO\",\n",
      "      \"series\": \"Cisco Catalyst 9300 Series Switches\",\n",
      "      \"tagCount\": \"0\",\n",
      "      \"type\": \"Cisco Catalyst 9300 Switch\",\n",
      "      \"upTime\": \"55 days, 11:15:27.74\",\n",
      "      \"lineCardCount\": \"2\",\n",
      "      \"apManagerInterfaceIp\": \"\",\n",
      "      \"lastUpdated\": \"2018-03-08 01:58:56\",\n",
      "      \"lineCardId\": \"789e00f9-f52d-453d-86c0-b18f642462ee, 242debfd-ff6c-4147-9bf6-574e488c5174\",\n",
      "      \"interfaceCount\": \"41\",\n",
      "      \"id\": \"74b69532-5dc3-45a1-a0dd-6d1d10051f27\",\n",
      "      \"snmpContact\": \"\",\n",
      "      \"platformId\": \"C9300-24UX\"\n",
      "    },\n",
      "    {\n",
      "      \"family\": \"Switches and Hubs\",\n",
      "      \"managementIpAddress\": \"10.10.22.69\",\n",
      "      \"memorySize\": \"873744896\",\n",
      "      \"softwareVersion\": \"16.6.2s\",\n",
      "      \"lastUpdateTime\": 1520474367058,\n",
      "      \"hostname\": \"cs3850.abc.inc\",\n",
      "      \"reachabilityFailureReason\": \"\",\n",
      "      \"macAddress\": \"cc:d8:c1:15:d2:80\",\n",
      "      \"role\": \"CORE\",\n",
      "      \"bootDateTime\": \"2018-01-11 15:20:34\",\n",
      "      \"collectionInterval\": \"Global Default\",\n",
      "      \"snmpLocation\": \"\",\n",
      "      \"collectionStatus\": \"Managed\",\n",
      "      \"instanceUuid\": \"8be78ab1-d684-49c1-8529-2b08e9c5a6d4\",\n",
      "      \"serialNumber\": \"FOC1833X0AR\",\n",
      "      \"reachabilityStatus\": \"Reachable\",\n",
      "      \"inventoryStatusDetail\": \"<status><general code=\\\"SUCCESS\\\"/></status>\",\n",
      "      \"roleSource\": \"MANUAL\",\n",
      "      \"series\": \"Cisco Catalyst 3850 Series Ethernet Stackable Switch\",\n",
      "      \"tagCount\": \"0\",\n",
      "      \"type\": \"Cisco Catalyst38xx stack-able ethernet switch\",\n",
      "      \"upTime\": \"51 days, 22:15:51.67\",\n",
      "      \"lineCardCount\": \"2\",\n",
      "      \"apManagerInterfaceIp\": \"\",\n",
      "      \"lastUpdated\": \"2018-03-08 01:59:27\",\n",
      "      \"lineCardId\": \"15d76413-5289-4a99-98b6-fcacfe76b977, f187f561-9078-4f30-b1a1-c6c6284bd075\",\n",
      "      \"interfaceCount\": \"59\",\n",
      "      \"id\": \"8be78ab1-d684-49c1-8529-2b08e9c5a6d4\",\n",
      "      \"snmpContact\": \"\",\n",
      "      \"platformId\": \"WS-C3850-48U-E\"\n",
      "    }\n",
      "  ],\n",
      "  \"version\": \"1.0\"\n",
      "}\n"
     ]
    }
   ],
   "source": [
    "# now pretty print it\n",
    "# serialize turns object into a json dict.\n",
    "# we do not normally do this, but shows the structure maps to a dictionary\n",
    "print(json.dumps(dnac.serialize(network_devices), indent=2))"
   ]
  },
  {
   "cell_type": "markdown",
   "metadata": {},
   "source": [
    "### Displaying data\n",
    "\n",
    "Now print out a subset of the attributes.  Define a format string that can be used for both the heading and the data.\n",
    "\n",
    "- UseCase: Print out a comma sepparated list of attributes for importing into an asset management system "
   ]
  },
  {
   "cell_type": "code",
   "execution_count": 6,
   "metadata": {},
   "outputs": [
    {
     "name": "stdout",
     "output_type": "stream",
     "text": [
      "IP Address      , Device Name                   , Software Version, Serial Number       \n",
      "10.10.22.74     , asr1001-x.abc.inc             , 16.6.1          , FXS1932Q1SE         \n",
      "10.10.22.66     , cat_9k_1.abc.inc              , 16.6.1          , FCW2136L0AK         \n",
      "10.10.22.70     , cat_9k_2.abc.inc              , 16.6.1          , FCW2140L039         \n",
      "10.10.22.69     , cs3850.abc.inc                , 16.6.2s         , FOC1833X0AR         \n"
     ]
    }
   ],
   "source": [
    "# define a formating string\n",
    "formatstring='{ip:<16s}, {name:<30s}, {software:<16s}, {serial:<20s}'\n",
    "\n",
    "\n",
    "# print a heading\n",
    "print(formatstring.format(ip=\"IP Address\", \n",
    "                          name=\"Device Name\", \n",
    "                          software=\"Software Version\",\n",
    "                         serial=\"Serial Number\"))\n",
    "\n",
    "# print each of the nework devices.  network_devices is a list of objects with attributes, not a python dict\n",
    "for network_device in network_devices.response:\n",
    "    print(formatstring.format(ip=network_device.managementIpAddress, \n",
    "                                 name=network_device.hostname,\n",
    "                                 software=network_device.softwareVersion,\n",
    "                             serial=network_device.serialNumber))"
   ]
  },
  {
   "cell_type": "markdown",
   "metadata": {},
   "source": [
    "<font color=blue>\n",
    "<hr>\n",
    "<h2> Challenge </h2>\n",
    "Either insert a cell or modify the cell above to change the attributes that are printed out.\n",
    "<hr>\n",
    "</font>"
   ]
  },
  {
   "cell_type": "code",
   "execution_count": 7,
   "metadata": {},
   "outputs": [
    {
     "ename": "KeyError",
     "evalue": "'role'",
     "output_type": "error",
     "traceback": [
      "\u001b[0;31m---------------------------------------------------------------------------\u001b[0m",
      "\u001b[0;31mKeyError\u001b[0m                                  Traceback (most recent call last)",
      "\u001b[0;32m<ipython-input-7-89c9caa3a8fc>\u001b[0m in \u001b[0;36m<module>\u001b[0;34m()\u001b[0m\n\u001b[1;32m      7\u001b[0m                           \u001b[0mname\u001b[0m\u001b[0;34m=\u001b[0m\u001b[0;34m\"Device Name\"\u001b[0m\u001b[0;34m,\u001b[0m\u001b[0;34m\u001b[0m\u001b[0m\n\u001b[1;32m      8\u001b[0m                           \u001b[0msoftware\u001b[0m\u001b[0;34m=\u001b[0m\u001b[0;34m\"Software Version\"\u001b[0m\u001b[0;34m,\u001b[0m\u001b[0;34m\u001b[0m\u001b[0m\n\u001b[0;32m----> 9\u001b[0;31m                          serial=\"Serial Number\"),\n\u001b[0m\u001b[1;32m     10\u001b[0m                          role=\"Role\")\n\u001b[1;32m     11\u001b[0m \u001b[0;34m\u001b[0m\u001b[0m\n",
      "\u001b[0;31mKeyError\u001b[0m: 'role'"
     ]
    }
   ],
   "source": [
    "# define a formating string\n",
    "formatstring='{ip:<16s}, {name:<30s}, {software:<16s}, {serial:<20s},{role}'\n",
    "\n",
    "\n",
    "# print a heading\n",
    "print(formatstring.format(ip=\"IP Address\", \n",
    "                          name=\"Device Name\", \n",
    "                          software=\"Software Version\",\n",
    "                         serial=\"Serial Number\",\n",
    "                         role=\"Role\")\n",
    "\n",
    "# print each of the nework devices.  network_devices is a list of objects with attributes, not a python dict\n",
    "for network_device in network_devices.response:\n",
    "    print(formatstring.format(ip=network_device.managementIpAddress, \n",
    "                                 name=network_device.hostname,\n",
    "                                 software=network_device.softwareVersion,\n",
    "                             serial=network_device.serialNumber),\n",
    "                             role=network_device.role)"
   ]
  },
  {
   "cell_type": "code",
   "execution_count": null,
   "metadata": {},
   "outputs": [],
   "source": [
    "# define a formating string\n",
    "formatstring='{ip:<16s}, {name:<30s}, {software:<16s}, {serial:<20s}'\n",
    "\n",
    "\n",
    "# print a heading\n",
    "print(formatstring.format(ip=\"IP Address\", \n",
    "                          name=\"Device Name\", \n",
    "                          software=\"Software Version\",\n",
    "                         serial=\"Serial Number\"))\n",
    "\n",
    "# print each of the nework devices.  network_devices is a list of objects with attributes, not a python dict\n",
    "for network_device in network_devices.response:\n",
    "    print(formatstring.format(ip=network_device.managementIpAddress, \n",
    "                                 name=network_device.hostname,\n",
    "                                 software=network_device.softwareVersion,\n",
    "                             serial=network_device.serialNumber))"
   ]
  },
  {
   "cell_type": "markdown",
   "metadata": {
    "collapsed": true
   },
   "source": [
    "## Getting a Specific resource\n",
    "\n",
    "Now find a specific device and make a request for a single device\n"
   ]
  },
  {
   "cell_type": "code",
   "execution_count": 7,
   "metadata": {},
   "outputs": [
    {
     "data": {
      "text/plain": [
       "[('d5bbb4a9-a14d-4347-9546-89286e9f30d4', '54 days, 6:27:39.14'),\n",
       " ('6d3eaa5d-bb39-4cc4-8881-4a2b2668d2dc', '54 days, 7:20:52.20'),\n",
       " ('74b69532-5dc3-45a1-a0dd-6d1d10051f27', '54 days, 7:25:42.37'),\n",
       " ('8be78ab1-d684-49c1-8529-2b08e9c5a6d4', '50 days, 18:16:55.63')]"
      ]
     },
     "execution_count": 7,
     "metadata": {},
     "output_type": "execute_result"
    }
   ],
   "source": [
    "[(net_dev.id, net_dev.upTime) for net_dev in network_devices.response ]"
   ]
  },
  {
   "cell_type": "code",
   "execution_count": 8,
   "metadata": {},
   "outputs": [
    {
     "name": "stdout",
     "output_type": "stream",
     "text": [
      "Success, found id:6d3eaa5d-bb39-4cc4-8881-4a2b2668d2dc\n"
     ]
    }
   ],
   "source": [
    "# look for a specific access device which is a 9300\n",
    "try:\n",
    "    # one line list comprehension\n",
    "    deviceId = [net_dev.id for net_dev in network_devices.response \n",
    "                 if net_dev.role ==\"ACCESS\" and  \"9300\" in net_dev.type ][0]\n",
    "    print (\"Success, found id:{id}\".format(id=deviceId))\n",
    "except keyError:\n",
    "    print (\"FAIL: no suitable device found\")"
   ]
  },
  {
   "cell_type": "markdown",
   "metadata": {},
   "source": [
    "This id can be used to return all the information about a single device.  Device id are important as the uniquely identify the device.  They are used in many API calls to perform an action on a device.  For example to assign a tag or a location for a device, you would need to know the ```id```."
   ]
  },
  {
   "cell_type": "code",
   "execution_count": 9,
   "metadata": {},
   "outputs": [
    {
     "name": "stdout",
     "output_type": "stream",
     "text": [
      "https://sandboxdnac.cisco.com/api/v1/network-device/6d3eaa5d-bb39-4cc4-8881-4a2b2668d2dc\n",
      "{\n",
      "  \"version\": \"1.0\",\n",
      "  \"response\": {\n",
      "    \"interfaceCount\": \"41\",\n",
      "    \"collectionInterval\": \"Global Default\",\n",
      "    \"inventoryStatusDetail\": \"<status><general code=\\\"SUCCESS\\\"/></status>\",\n",
      "    \"macAddress\": \"f8:7b:20:67:62:80\",\n",
      "    \"snmpLocation\": \"\",\n",
      "    \"id\": \"6d3eaa5d-bb39-4cc4-8881-4a2b2668d2dc\",\n",
      "    \"roleSource\": \"AUTO\",\n",
      "    \"reachabilityStatus\": \"Reachable\",\n",
      "    \"managementIpAddress\": \"10.10.22.66\",\n",
      "    \"role\": \"ACCESS\",\n",
      "    \"lastUpdateTime\": 1520375308193,\n",
      "    \"series\": \"Cisco Catalyst 9300 Series Switches\",\n",
      "    \"type\": \"Cisco Catalyst 9300 Switch\",\n",
      "    \"bootDateTime\": \"2018-01-11 14:42:33\",\n",
      "    \"serialNumber\": \"FCW2136L0AK\",\n",
      "    \"hostname\": \"cat_9k_1.abc.inc\",\n",
      "    \"lineCardCount\": \"2\",\n",
      "    \"tagCount\": \"0\",\n",
      "    \"snmpContact\": \"\",\n",
      "    \"instanceUuid\": \"6d3eaa5d-bb39-4cc4-8881-4a2b2668d2dc\",\n",
      "    \"upTime\": \"54 days, 7:46:08.11\",\n",
      "    \"family\": \"Switches and Hubs\",\n",
      "    \"lineCardId\": \"feb42c9f-323f-4e17-87d3-c2ea924320cb, 0f0c473e-b2e0-4dcf-af11-9e7cf7216473\",\n",
      "    \"apManagerInterfaceIp\": \"\",\n",
      "    \"collectionStatus\": \"Managed\",\n",
      "    \"platformId\": \"C9300-24UX\",\n",
      "    \"reachabilityFailureReason\": \"\",\n",
      "    \"lastUpdated\": \"2018-03-06 22:28:28\",\n",
      "    \"memorySize\": \"889225360\",\n",
      "    \"softwareVersion\": \"16.6.1\"\n",
      "  }\n",
      "}\n"
     ]
    }
   ],
   "source": [
    "network_device = dnac.networkdevice.getNetworkDeviceById(id=deviceId)\n",
    "print (json.dumps(dnac.serialize(network_device), indent=2))"
   ]
  },
  {
   "cell_type": "markdown",
   "metadata": {},
   "source": [
    "### Get Network-device by management IP address\n",
    "Looking a device up by id is challenging as you may not always know the id.  It is often the case you know the management IP address (or serialnumber) and want to get the id of the device, or some other attributes (e.g. version of code).\n",
    "\n",
    "- UseCase: a function to allow the user to enter the IP address of a network-device and perform some other action based on the id."
   ]
  },
  {
   "cell_type": "code",
   "execution_count": 10,
   "metadata": {},
   "outputs": [
    {
     "name": "stdout",
     "output_type": "stream",
     "text": [
      "https://sandboxdnac.cisco.com/api/v1/network-device/ip-address/10.10.22.66\n",
      "Example1: 6d3eaa5d-bb39-4cc4-8881-4a2b2668d2dc\n",
      "https://sandboxdnac.cisco.com/api/v1/network-device/ip-address/10.10.22.70\n",
      "Example1: 74b69532-5dc3-45a1-a0dd-6d1d10051f27\n"
     ]
    }
   ],
   "source": [
    "# looks up a network device by ipaddress, and returns the id attribute\n",
    "def ipToDeviceId(ipAddress):\n",
    "    ip_network_device = dnac.networkdevice.getNetworkDeviceByIp(ipAddress=ipAddress)\n",
    "    return ip_network_device.response.id\n",
    "\n",
    "# we are cheating here as we are just picking the IP address from earlier\n",
    "# this is just to illustrate the use of a known ip address\n",
    "ipAddress=network_device.response.managementIpAddress\n",
    "id1 = ipToDeviceId(ipAddress)\n",
    "print (\"Example1: %s\" % id1)\n",
    "\n",
    "# now use a specific IP address.  You can change this to one of the examples above\n",
    "ipAddress=\"10.10.22.70\"\n",
    "id2 = ipToDeviceId(ipAddress)\n",
    "print (\"Example1: %s\" % id2)"
   ]
  },
  {
   "cell_type": "markdown",
   "metadata": {},
   "source": [
    "<hr>\n",
    "<font color=blue>\n",
    "<h2> Challenge </h2>\n",
    "Write some code to get all network-devices running IOS \"15.2(4)M6a\"\n",
    "</font>\n",
    "<hr>"
   ]
  },
  {
   "cell_type": "markdown",
   "metadata": {
    "raw_mimetype": "text/markdown"
   },
   "source": [
    "## Host data store\n",
    "This call show the hosts connected to the network.\n",
    "\n",
    "- UseCase: find my host\n"
   ]
  },
  {
   "cell_type": "code",
   "execution_count": 11,
   "metadata": {},
   "outputs": [
    {
     "name": "stdout",
     "output_type": "stream",
     "text": [
      "https://sandboxdnac.cisco.com/api/v1/host\n",
      "{\n",
      "    \"version\": \"1.0\",\n",
      "    \"response\": [\n",
      "        {\n",
      "            \"hostIp\": \"10.10.22.114\",\n",
      "            \"connectedInterfaceId\": \"c39338e4-93fc-4fcb-8de5-bbbd2860d950\",\n",
      "            \"hostMac\": \"00:1e:13:a5:b9:40\",\n",
      "            \"vlanId\": \"1\",\n",
      "            \"id\": \"ac385e41-165b-4de7-a49b-42ba15cacd4f\",\n",
      "            \"connectedInterfaceName\": \"TenGigabitEthernet1/0/24\",\n",
      "            \"source\": \"200\",\n",
      "            \"lastUpdated\": \"1520375653576\",\n",
      "            \"subType\": \"UNKNOWN\",\n",
      "            \"connectedNetworkDeviceId\": \"74b69532-5dc3-45a1-a0dd-6d1d10051f27\",\n",
      "            \"connectedNetworkDeviceIpAddress\": \"10.10.22.70\",\n",
      "            \"hostType\": \"wired\"\n",
      "        },\n",
      "        {\n",
      "            \"hostIp\": \"10.10.22.98\",\n",
      "            \"connectedInterfaceId\": \"01ced8e8-3679-4d9d-bbcd-995e2f14c4db\",\n",
      "            \"hostMac\": \"c8:4c:75:68:b2:c0\",\n",
      "            \"vlanId\": \"1\",\n",
      "            \"id\": \"f2c0c00b-68d5-44cc-bb4d-d4cb62ca2403\",\n",
      "            \"connectedInterfaceName\": \"TenGigabitEthernet1/0/1\",\n",
      "            \"source\": \"200\",\n",
      "            \"lastUpdated\": \"1520375297090\",\n",
      "            \"subType\": \"UNKNOWN\",\n",
      "            \"connectedNetworkDeviceId\": \"6d3eaa5d-bb39-4cc4-8881-4a2b2668d2dc\",\n",
      "            \"connectedNetworkDeviceIpAddress\": \"10.10.22.66\",\n",
      "            \"hostType\": \"wired\"\n",
      "        }\n",
      "    ]\n",
      "}\n"
     ]
    }
   ],
   "source": [
    "hosts = dnac.host.getHosts()\n",
    "print(json.dumps(dnac.serialize(hosts), indent=4))"
   ]
  },
  {
   "cell_type": "markdown",
   "metadata": {},
   "source": [
    "Lookup a device by ipaddress (macAddress, hostname).  \n",
    "Can also use connectedInterfaceName and connectedNetworkDeviceIpAddress"
   ]
  },
  {
   "cell_type": "code",
   "execution_count": 12,
   "metadata": {},
   "outputs": [
    {
     "name": "stdout",
     "output_type": "stream",
     "text": [
      "https://sandboxdnac.cisco.com/api/v1/host\n",
      "host: 10.10.22.114 00:1e:13:a5:b9:40: DEVICE10.10.22.70 TenGigabitEthernet1/0/24\n"
     ]
    }
   ],
   "source": [
    "# lookup host by IP address\n",
    "host=dnac.host.getHosts(hostIp=\"10.10.22.114\").response[0]\n",
    "\n",
    "print(\"host: {ip} {mac}: DEVICE{deviceIp} {interface}\".format(\n",
    "                        ip=host.hostIp,\n",
    "                        mac=host.hostMac,\n",
    "                        deviceIp=host.connectedNetworkDeviceIpAddress,\n",
    "                        interface=host.connectedInterfaceName   ))"
   ]
  },
  {
   "cell_type": "markdown",
   "metadata": {},
   "source": [
    "<hr>\n",
    "<font color=blue>\n",
    "<h2> Challenge </h2>\n",
    "Write some code to get the IOS version of the device a host is connected to.\n",
    "</font>\n",
    "<hr>"
   ]
  },
  {
   "cell_type": "markdown",
   "metadata": {},
   "source": [
    "### interfaces\n",
    "\n",
    "Look at the interfaces that the device above is connected to.  Get switch port utilization\n"
   ]
  },
  {
   "cell_type": "code",
   "execution_count": null,
   "metadata": {},
   "outputs": [],
   "source": [
    "host=dnac.host.getHosts(hostIp=\"10.10.22.114\").response[0]\n",
    "deviceId =host.connectedNetworkDeviceId\n",
    "interfaces = dnac.interface.getInterfaceByDeviceId(deviceId=deviceId).response"
   ]
  },
  {
   "cell_type": "code",
   "execution_count": null,
   "metadata": {},
   "outputs": [],
   "source": [
    "print (json.dumps(dnac.serialize(interfaces), indent=4))"
   ]
  },
  {
   "cell_type": "code",
   "execution_count": null,
   "metadata": {},
   "outputs": [],
   "source": [
    "# get a list of portName,  speed and status\n",
    "[(port.portName, port.speed, port.status)\n",
    "                 for port in interfaces\n",
    "                 if port.interfaceType == 'Physical']"
   ]
  },
  {
   "cell_type": "code",
   "execution_count": null,
   "metadata": {},
   "outputs": [],
   "source": [
    "import re\n",
    "def atoi(text):\n",
    "    return int(text) if text.isdigit() else text\n",
    "\n",
    "# natural sort for interfaces\n",
    "def natural_sort(interfacelist):\n",
    "    return sorted(interfacelist, key=lambda port: [ atoi(c) for c in re.split('(\\d+)', port.portName)])\n",
    "\n",
    "[(port.portName, port.speed, port.status)\n",
    "        for port in natural_sort(interfaces)\n",
    "            if port.interfaceType == 'Physical']"
   ]
  },
  {
   "cell_type": "code",
   "execution_count": null,
   "metadata": {},
   "outputs": [],
   "source": [
    "len([port.portName for port in natural_sort(interfaces)\n",
    "                 if port.interfaceType == 'Physical'\n",
    "                    and port.status == 'up'])"
   ]
  },
  {
   "cell_type": "markdown",
   "metadata": {
    "collapsed": true
   },
   "source": [
    "<hr>\n",
    "<font color=blue>\n",
    "<h2> Challenge </h2>\n",
    "Calculate the percentage utilization (active ports) for the switch above.\n",
    "</font>\n",
    "<hr>"
   ]
  },
  {
   "cell_type": "code",
   "execution_count": null,
   "metadata": {},
   "outputs": [],
   "source": []
  }
 ],
 "metadata": {
  "celltoolbar": "Raw Cell Format",
  "kernelspec": {
   "display_name": "Python 3",
   "language": "python",
   "name": "python3"
  },
  "language_info": {
   "codemirror_mode": {
    "name": "ipython",
    "version": 3
   },
   "file_extension": ".py",
   "mimetype": "text/x-python",
   "name": "python",
   "nbconvert_exporter": "python",
   "pygments_lexer": "ipython3",
   "version": "3.4.4"
  }
 },
 "nbformat": 4,
 "nbformat_minor": 1
}
